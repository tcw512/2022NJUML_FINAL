{
 "cells": [
  {
   "cell_type": "code",
   "execution_count": 1,
   "metadata": {},
   "outputs": [
    {
     "name": "stdout",
     "output_type": "stream",
     "text": [
      "CNN(\n",
      "  (network): Sequential(\n",
      "    (0): Conv2d(3, 32, kernel_size=(3, 3), stride=(1, 1), padding=(1, 1))\n",
      "    (1): ReLU()\n",
      "    (2): Conv2d(32, 64, kernel_size=(3, 3), stride=(1, 1), padding=(1, 1))\n",
      "    (3): ReLU()\n",
      "    (4): MaxPool2d(kernel_size=2, stride=2, padding=0, dilation=1, ceil_mode=False)\n",
      "    (5): Conv2d(64, 128, kernel_size=(3, 3), stride=(1, 1), padding=(1, 1))\n",
      "    (6): ReLU()\n",
      "    (7): Conv2d(128, 128, kernel_size=(3, 3), stride=(1, 1), padding=(1, 1))\n",
      "    (8): ReLU()\n",
      "    (9): MaxPool2d(kernel_size=2, stride=2, padding=0, dilation=1, ceil_mode=False)\n",
      "    (10): Conv2d(128, 256, kernel_size=(3, 3), stride=(1, 1), padding=(1, 1))\n",
      "    (11): ReLU()\n",
      "    (12): Conv2d(256, 256, kernel_size=(3, 3), stride=(1, 1), padding=(1, 1))\n",
      "    (13): ReLU()\n",
      "    (14): MaxPool2d(kernel_size=2, stride=2, padding=0, dilation=1, ceil_mode=False)\n",
      "    (15): Flatten(start_dim=1, end_dim=-1)\n",
      "    (16): Linear(in_features=16384, out_features=1024, bias=True)\n",
      "    (17): ReLU()\n",
      "    (18): Linear(in_features=1024, out_features=512, bias=True)\n",
      "    (19): ReLU()\n",
      "    (20): Linear(in_features=512, out_features=20, bias=True)\n",
      "  )\n",
      ")\n"
     ]
    }
   ],
   "source": [
    "import torch\n",
    "import torchvision\n",
    "import os\n",
    "from torchvision.datasets import ImageFolder\n",
    "from torchvision.transforms import ToTensor\n",
    "from torch.utils.data.dataloader import DataLoader\n",
    "from torch.utils.tensorboard import SummaryWriter\n",
    "import torch.nn as nn\n",
    "import torch.nn.functional as F\n",
    "\n",
    "class CNN(nn.Module):\n",
    "    def __init__(self):\n",
    "        super(CNN, self).__init__()\n",
    "        self.network = nn.Sequential(\n",
    "            nn.Conv2d(3, 32, kernel_size=3, padding=1),\n",
    "            nn.ReLU(),\n",
    "            nn.Conv2d(32, 64, kernel_size=3, stride=1, padding=1),\n",
    "            nn.ReLU(),\n",
    "            nn.MaxPool2d(2, 2), # output: 64 x 32 x 32\n",
    "\n",
    "            nn.Conv2d(64, 128, kernel_size=3, stride=1, padding=1),\n",
    "            nn.ReLU(),\n",
    "            nn.Conv2d(128, 128, kernel_size=3, stride=1, padding=1),\n",
    "            nn.ReLU(),\n",
    "            nn.MaxPool2d(2, 2), # output: 128 x 16 x 16\n",
    "\n",
    "            nn.Conv2d(128, 256, kernel_size=3, stride=1, padding=1),\n",
    "            nn.ReLU(),\n",
    "            nn.Conv2d(256, 256, kernel_size=3, stride=1, padding=1),\n",
    "            nn.ReLU(),\n",
    "            nn.MaxPool2d(2, 2), # output: 256 x 8 x 8\n",
    "\n",
    "            nn.Flatten(), \n",
    "            nn.Linear(16384, 1024),\n",
    "            nn.ReLU(),\n",
    "            nn.Linear(1024, 512),\n",
    "            nn.ReLU(),\n",
    "            nn.Linear(512, 20))\n",
    "        \n",
    "    def forward(self, input):\n",
    "        return self.network(input)\n",
    "\n",
    "model = torch.load('t_max.pth')\n",
    "print(model)"
   ]
  },
  {
   "cell_type": "code",
   "execution_count": 2,
   "metadata": {},
   "outputs": [],
   "source": [
    "test_data = ImageFolder(\"../data/data/test\", transform=ToTensor())\n",
    "test_loader = DataLoader(test_data, 128*2, pin_memory=True)\n",
    "test_data_size = len(test_data)"
   ]
  },
  {
   "cell_type": "code",
   "execution_count": 3,
   "metadata": {},
   "outputs": [
    {
     "name": "stdout",
     "output_type": "stream",
     "text": [
      "整体测试集上的Loss: 12.96743711325098\n",
      "整体测试集上的正确率: 0.9579623937606812\n"
     ]
    }
   ],
   "source": [
    "loss_fn = nn.CrossEntropyLoss()\n",
    "loss_fn = loss_fn.cuda()\n",
    "\n",
    "model.eval()\n",
    "total_test_loss = 0\n",
    "total_accuracy = 0\n",
    "for data in test_loader:\n",
    "    imgs, targets = data\n",
    "    if torch.cuda.is_available():\n",
    "        imgs = imgs.cuda()\n",
    "        targets = targets.cuda()\n",
    "    output = model(imgs)\n",
    "    loss = loss_fn(output, targets)\n",
    "    total_test_loss += loss.item()\n",
    "    accuracy = (output.argmax(1) == targets).sum()\n",
    "    total_accuracy += accuracy\n",
    "\n",
    "print(\"整体测试集上的Loss: {}\".format(total_test_loss))\n",
    "print(\"整体测试集上的正确率: {}\".format(total_accuracy/test_data_size))\n"
   ]
  },
  {
   "cell_type": "code",
   "execution_count": 4,
   "metadata": {},
   "outputs": [
    {
     "ename": "error",
     "evalue": "OpenCV(4.5.5) D:\\a\\opencv-python\\opencv-python\\opencv\\modules\\imgproc\\src\\resize.cpp:4052: error: (-215:Assertion failed) !ssize.empty() in function 'cv::resize'\n",
     "output_type": "error",
     "traceback": [
      "\u001b[1;31m---------------------------------------------------------------------------\u001b[0m",
      "\u001b[1;31merror\u001b[0m                                     Traceback (most recent call last)",
      "\u001b[1;32md:\\tcw\\junior\\first\\machine learning\\final\\9c\\test.ipynb Cell 4\u001b[0m in \u001b[0;36m<cell line: 4>\u001b[1;34m()\u001b[0m\n\u001b[0;32m      <a href='vscode-notebook-cell:/d%3A/tcw/junior/first/machine%20learning/final/9c/test.ipynb#W3sZmlsZQ%3D%3D?line=0'>1</a>\u001b[0m \u001b[39mimport\u001b[39;00m \u001b[39mcv2\u001b[39;00m\n\u001b[0;32m      <a href='vscode-notebook-cell:/d%3A/tcw/junior/first/machine%20learning/final/9c/test.ipynb#W3sZmlsZQ%3D%3D?line=2'>3</a>\u001b[0m imgs \u001b[39m=\u001b[39m cv2\u001b[39m.\u001b[39mimread(\u001b[39m\"\u001b[39m\u001b[39mmzd1.jpg\u001b[39m\u001b[39m\"\u001b[39m)\n\u001b[1;32m----> <a href='vscode-notebook-cell:/d%3A/tcw/junior/first/machine%20learning/final/9c/test.ipynb#W3sZmlsZQ%3D%3D?line=3'>4</a>\u001b[0m imgs \u001b[39m=\u001b[39m cv2\u001b[39m.\u001b[39;49mresize(imgs, (\u001b[39m64\u001b[39;49m,\u001b[39m64\u001b[39;49m))\n\u001b[0;32m      <a href='vscode-notebook-cell:/d%3A/tcw/junior/first/machine%20learning/final/9c/test.ipynb#W3sZmlsZQ%3D%3D?line=4'>5</a>\u001b[0m imgs \u001b[39m=\u001b[39m cv2\u001b[39m.\u001b[39mcvtColor(imgs, cv2\u001b[39m.\u001b[39mCOLOR_BGR2RGB)\n",
      "\u001b[1;31merror\u001b[0m: OpenCV(4.5.5) D:\\a\\opencv-python\\opencv-python\\opencv\\modules\\imgproc\\src\\resize.cpp:4052: error: (-215:Assertion failed) !ssize.empty() in function 'cv::resize'\n"
     ]
    }
   ],
   "source": [
    "import cv2\n",
    "\n",
    "imgs = cv2.imread(\"mzd1.jpg\")\n",
    "imgs = cv2.resize(imgs, (64,64))\n",
    "imgs = cv2.cvtColor(imgs, cv2.COLOR_BGR2RGB)\n"
   ]
  },
  {
   "cell_type": "code",
   "execution_count": null,
   "metadata": {},
   "outputs": [
    {
     "name": "stdout",
     "output_type": "stream",
     "text": [
      "tensor([[ 0.9330, -6.4784,  2.0502, -7.3038, -0.2205, -3.2098, -6.6562,  0.3002,\n",
      "         -3.1503,  4.5722, -2.6175, -7.4439, -2.8055, -8.3417, -3.4978,  2.9400,\n",
      "         -9.9634,  1.0477, -4.9583, -0.8024]])\n",
      "mf\n"
     ]
    }
   ],
   "source": [
    "transform = torchvision.transforms.Compose([torchvision.transforms.ToTensor()])\n",
    "img = transform(imgs)\n",
    "img = torch.reshape(img, (1, 3, 64, 64))\n",
    "model.eval()\n",
    "with torch.no_grad():\n",
    "    output = model(img)\n",
    "print(output)\n",
    "flag = int(output.argmax(1))\n",
    "\n",
    "flags = {0: 'bdsr', 1: 'csl', 2: 'fwq', 3: 'gj', 4: 'htj', 5: 'hy', 6: 'lgq', 7: 'lqs', 8: 'lx', 9: 'mf', 10: 'mzd', 11: 'oyx', 12: 'sgt', 13: 'shz', 14: 'smh', 15: 'wxz', 16: 'wzm', 17: 'yyr', 18: 'yzq', 19: 'zmf'}\n",
    "print(flags[flag])\n"
   ]
  }
 ],
 "metadata": {
  "kernelspec": {
   "display_name": "Python 3",
   "language": "python",
   "name": "python3"
  },
  "language_info": {
   "codemirror_mode": {
    "name": "ipython",
    "version": 3
   },
   "file_extension": ".py",
   "mimetype": "text/x-python",
   "name": "python",
   "nbconvert_exporter": "python",
   "pygments_lexer": "ipython3",
   "version": "3.10.4 (tags/v3.10.4:9d38120, Mar 23 2022, 23:13:41) [MSC v.1929 64 bit (AMD64)]"
  },
  "orig_nbformat": 4,
  "vscode": {
   "interpreter": {
    "hash": "08f6edec437538b5993be24a8d19dd1bd66f0a7ae79d727201cebd80cd580c21"
   }
  }
 },
 "nbformat": 4,
 "nbformat_minor": 2
}
