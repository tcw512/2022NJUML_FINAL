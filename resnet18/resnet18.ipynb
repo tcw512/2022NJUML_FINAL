{
 "cells": [
  {
   "cell_type": "code",
   "execution_count": null,
   "metadata": {
    "collapsed": false,
    "pycharm": {
     "name": "#%%\n"
    }
   },
   "outputs": [],
   "source": [
    "import os\n",
    "import torch\n",
    "from torch.utils.data import random_split\n",
    "from torchvision.datasets import ImageFolder\n",
    "from torchvision import transforms\n",
    "from torch.utils.data.dataloader import DataLoader\n",
    "import torch.nn as nn\n",
    "from torch.utils.tensorboard import SummaryWriter\n",
    "from resnet18 import ResNet18, BasicBlock"
   ]
  },
  {
   "cell_type": "markdown",
   "metadata": {
    "collapsed": false,
    "pycharm": {
     "name": "#%% md\n"
    }
   },
   "source": [
    "## 数据预处理"
   ]
  },
  {
   "cell_type": "code",
   "execution_count": null,
   "metadata": {
    "collapsed": false,
    "pycharm": {
     "name": "#%%\n"
    }
   },
   "outputs": [],
   "source": [
    "data_dir = '../data/data'"
   ]
  },
  {
   "cell_type": "code",
   "execution_count": null,
   "metadata": {
    "collapsed": false,
    "pycharm": {
     "name": "#%%\n"
    }
   },
   "outputs": [],
   "source": [
    "dataset = ImageFolder(data_dir+'/train', transform=transforms.Compose([transforms.ToTensor()]))\n",
    "classes = os.listdir(data_dir + \"/train\")"
   ]
  },
  {
   "cell_type": "code",
   "execution_count": null,
   "metadata": {
    "collapsed": false,
    "pycharm": {
     "name": "#%%\n"
    }
   },
   "outputs": [],
   "source": [
    "random_seed = 1234\n",
    "torch.manual_seed(random_seed)\n",
    "\n",
    "val_size = 8202 # 10% of the total size\n",
    "train_size = len(dataset) - val_size\n",
    "\n",
    "train_ds, val_ds = random_split(dataset, [train_size, val_size])\n",
    "len(train_ds)\n",
    "val_data_size = len(val_ds)"
   ]
  },
  {
   "cell_type": "code",
   "execution_count": null,
   "metadata": {
    "collapsed": false,
    "pycharm": {
     "name": "#%%\n"
    }
   },
   "outputs": [],
   "source": [
    "batch_size= 128\n",
    "train_dl = DataLoader(train_ds, batch_size, shuffle=True, num_workers=0, pin_memory=True)\n",
    "val_dl = DataLoader(val_ds, batch_size*2, num_workers=0,pin_memory=True)"
   ]
  },
  {
   "attachments": {},
   "cell_type": "markdown",
   "metadata": {
    "collapsed": false,
    "pycharm": {
     "name": "#%% md\n"
    }
   },
   "source": [
    "## 构建网络"
   ]
  },
  {
   "cell_type": "code",
   "execution_count": null,
   "metadata": {
    "collapsed": false,
    "pycharm": {
     "name": "#%%\n"
    }
   },
   "outputs": [],
   "source": [
    "device=torch.device('cuda'if torch.cuda.is_available() else \"cpu\")\n",
    "net=ResNet18(BasicBlock)\n",
    "net.to(device)\n",
    "writer = SummaryWriter(\"logs\")\n",
    "writer.add_graph(net, input_to_model=torch.rand(1,3,64,64).to(device))"
   ]
  },
  {
   "cell_type": "markdown",
   "metadata": {
    "collapsed": false,
    "pycharm": {
     "name": "#%% md\n"
    }
   },
   "source": [
    "## 选择优化器和学习率\n",
    "\n"
   ]
  },
  {
   "cell_type": "code",
   "execution_count": null,
   "metadata": {
    "collapsed": false,
    "pycharm": {
     "name": "#%%\n"
    }
   },
   "outputs": [],
   "source": [
    "lr=0.0001\n",
    "optim=torch.optim.Adam(net.parameters(),lr=lr)\n",
    "sculer=torch.optim.lr_scheduler.StepLR(optim,step_size=1)\n"
   ]
  },
  {
   "cell_type": "markdown",
   "metadata": {
    "collapsed": false,
    "pycharm": {
     "name": "#%% md\n"
    }
   },
   "source": [
    "## 训练\n",
    "\n"
   ]
  },
  {
   "cell_type": "code",
   "execution_count": null,
   "metadata": {
    "collapsed": false,
    "pycharm": {
     "name": "#%%\n"
    }
   },
   "outputs": [],
   "source": [
    "from ultis import plot_preds\n",
    "\n",
    "total_train_step = 1\n",
    "total_val_step = 1\n",
    "epochs=6 # 循环次数\n",
    "for epoch in range(epochs):\n",
    "    total_train=0\n",
    "    for data in train_dl:\n",
    "        img,label=data\n",
    "        img =img.to(device)\n",
    "        label=label.to(device)\n",
    "        optim.zero_grad()\n",
    "        output=net(img)\n",
    "        train_loss=nn.CrossEntropyLoss()(output,label).to(device)\n",
    "        train_loss.backward()\n",
    "        optim.step()\n",
    "        total_train+=train_loss\n",
    "        total_train_step += 1\n",
    "        if total_train_step % 100 == 0:\n",
    "            writer.add_scalar(\"train_loss\", total_train, total_train_step)\n",
    "    sculer.step()\n",
    "    total_test=0\n",
    "    total_accuracy=0\n",
    "    for data in val_dl:\n",
    "        img,label =data\n",
    "        with torch.no_grad():\n",
    "            img=img.to(device)\n",
    "            label=label.to(device)\n",
    "            out=net(img)\n",
    "            test_loss=nn.CrossEntropyLoss()(out,label).to(device)\n",
    "            total_test+=test_loss\n",
    "            accuracy=(out.argmax(1)==label).sum()\n",
    "            total_accuracy+=accuracy\n",
    "    print(\"训练集上的损失：{}\".format(total_train))\n",
    "    print(\"验证集上的损失：{}\".format(total_test))\n",
    "    print(\"验证集上的精度：{:.1%}\".format(total_accuracy/val_data_size))\n",
    "    writer.add_scalar(\"val_loss\", total_test, total_val_step)\n",
    "    writer.add_scalar(\"val_accuracy\", total_accuracy/val_data_size, total_val_step)\n",
    "    writer.add_scalar(\"learnig_rate\", optim.param_groups[0][\"lr\"], total_val_step)\n",
    "    fig = plot_preds(net, \"../plot/\", transforms.ToTensor(), device=\"cuda\")\n",
    "    writer.add_figure(\"prediction vs real\", fig, epoch+1)\n",
    "    total_train_step += 1\n",
    "    total_val_step += 1\n",
    "    torch.save(net,\"ResNet.{}.pth\".format(epoch+1))\n",
    "    print(\"模型已保存\")\n",
    "writer.close()\n"
   ]
  }
 ],
 "metadata": {
  "kernelspec": {
   "display_name": "Python 3",
   "language": "python",
   "name": "python3"
  },
  "language_info": {
   "codemirror_mode": {
    "name": "ipython",
    "version": 3
   },
   "file_extension": ".py",
   "mimetype": "text/x-python",
   "name": "python",
   "nbconvert_exporter": "python",
   "pygments_lexer": "ipython3",
   "version": "3.10.4 (tags/v3.10.4:9d38120, Mar 23 2022, 23:13:41) [MSC v.1929 64 bit (AMD64)]"
  },
  "vscode": {
   "interpreter": {
    "hash": "08f6edec437538b5993be24a8d19dd1bd66f0a7ae79d727201cebd80cd580c21"
   }
  }
 },
 "nbformat": 4,
 "nbformat_minor": 0
}
