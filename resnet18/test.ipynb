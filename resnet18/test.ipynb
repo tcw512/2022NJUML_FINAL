{
 "cells": [
  {
   "cell_type": "code",
   "execution_count": 9,
   "metadata": {},
   "outputs": [],
   "source": [
    "import torch\n",
    "import torchvision\n",
    "import os\n",
    "from torchvision.datasets import ImageFolder\n",
    "from torchvision import transforms\n",
    "from torch.utils.data.dataloader import DataLoader\n",
    "from torch.utils.tensorboard import SummaryWriter\n",
    "import torch.nn as nn\n",
    "import torch.nn.functional as F\n",
    "from resnet18 import ResNet18, BasicBlock"
   ]
  },
  {
   "cell_type": "code",
   "execution_count": 10,
   "metadata": {},
   "outputs": [],
   "source": [
    "test_data = ImageFolder('../data/data/test/', transform=transforms.Compose([transforms.ToTensor()]))\n",
    "test_loader = DataLoader(test_data, 128, pin_memory=True)\n",
    "test_data_size = len(test_data)"
   ]
  },
  {
   "cell_type": "code",
   "execution_count": 11,
   "metadata": {},
   "outputs": [],
   "source": [
    "model = ResNet18(BasicBlock)\n",
    "model = torch.load('ResNet.3.pth').cuda()"
   ]
  },
  {
   "cell_type": "code",
   "execution_count": 13,
   "metadata": {},
   "outputs": [
    {
     "name": "stdout",
     "output_type": "stream",
     "text": [
      "整体测试集上的Loss: 18.8300314950943\n",
      "整体测试集上的正确率: 0.9692929983139038\n"
     ]
    }
   ],
   "source": [
    "loss_fn = nn.CrossEntropyLoss()\n",
    "loss_fn = loss_fn.cuda()\n",
    "\n",
    "total_test_loss = 0\n",
    "total_accuracy = 0\n",
    "for data in test_loader:\n",
    "    imgs, targets = data\n",
    "    if torch.cuda.is_available():\n",
    "        imgs = imgs.cuda()\n",
    "        targets = targets.cuda()\n",
    "    output = model(imgs)\n",
    "    loss = loss_fn(output, targets)\n",
    "    total_test_loss += loss.item()\n",
    "    accuracy = (output.argmax(1) == targets).sum()\n",
    "    total_accuracy += accuracy\n",
    "\n",
    "print(\"整体测试集上的Loss: {}\".format(total_test_loss))\n",
    "print(\"整体测试集上的正确率: {}\".format(total_accuracy/test_data_size))"
   ]
  }
 ],
 "metadata": {
  "kernelspec": {
   "display_name": "Python 3",
   "language": "python",
   "name": "python3"
  },
  "language_info": {
   "codemirror_mode": {
    "name": "ipython",
    "version": 3
   },
   "file_extension": ".py",
   "mimetype": "text/x-python",
   "name": "python",
   "nbconvert_exporter": "python",
   "pygments_lexer": "ipython3",
   "version": "3.10.4 (tags/v3.10.4:9d38120, Mar 23 2022, 23:13:41) [MSC v.1929 64 bit (AMD64)]"
  },
  "orig_nbformat": 4,
  "vscode": {
   "interpreter": {
    "hash": "08f6edec437538b5993be24a8d19dd1bd66f0a7ae79d727201cebd80cd580c21"
   }
  }
 },
 "nbformat": 4,
 "nbformat_minor": 2
}
